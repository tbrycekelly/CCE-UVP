{
 "cells": [
  {
   "cell_type": "markdown",
   "metadata": {},
   "source": [
    "## Source code for _Investigating particle size-flux relationships and the biological pump across a range of plankton ecosystem states from coastal to oligotrophic_\n",
    "\n",
    "Manuscript by: __Christian K. Fender, Thomas B. Kelly, Lionel Guidi, Mark D. Ohman, Matthew C. Smith, and Michael R. Stukel__\n",
    "\n",
    "Code by: __Thomas B. Kelly and Christian K. Fender (FSU)__  \n",
    "\n",
    "Manuscript submitted to Frontiers in Marine Science (March 2019)\n",
    "\n",
    "\n",
    "### _Abstract_\n",
    "\n",
    "Sinking particles transport organic carbon produced in the surface ocean to the ocean interior, leading to net storage of atmospheric CO2 in the deep ocean.  The rapid growth of in situ imaging technology has the potential to revolutionize our understanding of particle flux attenuation in the ocean; however, estimating particle flux from particle size and abundance (measured directly by in situ cameras) is challenging. Sinking rates are dependent on several factors, including particle excess density and porosity, which vary based on particle origin and type. Additionally, particle characteristics are transformed while sinking. We compare optically-measured particle size spectra profiles (Underwater Vision Profiler 5, UVP) with contemporaneous measurements of particle flux made using sediment traps and $^{234}Th:^{238}U$ disequilibrium on six process cruises from the California Current Ecosystem (CCE) LTER Program. These measurements allow us to assess the efficacy of using size-flux relationships to estimate fluxes from optical particle size measurements. We find that previously published parameterizations that estimate carbon flux from UVP profiles are a poor fit to direct flux measurements in the CCE.  This discrepancy is found to result primarily from the important role of fecal pellets in particle flux.  These pellets are primarily in a size range (i.e., 100 – 400 µm) that is not well-resolved as images by the UVP due to the resolution of the sensor.  We develop a new, CCE-optimized algorithm for estimating carbon flux from UVP data in the southern California Current (Flux = $\\sum_{i=1}^{x}{n_i A d_i^B ∆d_i }$), with A = 13.45, B = 1.35, d = particle diameter (mm) and Flux in units of $mg C m^{-2} d^{-1}$.  We caution, however, that increased accuracy in flux estimates derived from optical instruments will require devices with greater resolution, the ability to differentiate fecal pellets from low porosity marine snow aggregates, and improved sampling of rapidly sinking fecal pellets.  We also find that the particle size-flux relationships may be different within the euphotic zone than in the shallow twilight zone and hypothesize that the changing nature of sinking particles with depth must be considered when investigating the remineralization length scale of sinking particles in the ocean.\n",
    "\n",
    "[![DOI](https://zenodo.org/badge/178078252.svg)](https://zenodo.org/badge/latestdoi/178078252)\n",
    "\n",
    "\n",
    "---\n",
    "\n",
    "### Note on downloading the Raw Data\n",
    "\n",
    "An account with Ecotaxa will be necessary for the following steps.\n",
    "\n",
    "1. From the home page, select the drop down window next to Action at the top right. Select the Particle Module.\n",
    "2. Enter the relevant filters. For this study all CCELTER Particle Projects were selected.\n",
    "3. Select Export Selection.\n",
    "4. Download the RAW data format. Only this format will work with the provided code.\n",
    "5. From the downloaded files, only the PAR files and the metadata summary file were used for analysis.\n",
    "\n",
    "---\n",
    "\n",
    "### Start by loading the source files"
   ]
  },
  {
   "cell_type": "code",
   "execution_count": null,
   "metadata": {},
   "outputs": [],
   "source": [
    "source('source.uvp.r') ## Functions to make uvp data objects\n",
    "source('source.uvp.add.r') ## functions to add values to uvp data objects\n",
    "source('source.r') ## General purpose functions (optional)"
   ]
  },
  {
   "cell_type": "markdown",
   "metadata": {},
   "source": [
    "Next we will define directories and load the UVP metadata files"
   ]
  },
  {
   "cell_type": "code",
   "execution_count": null,
   "metadata": {},
   "outputs": [],
   "source": [
    "#### Load the Data\n",
    "input.dir = '../UVP Data/All PAR files/'\n",
    "input.dir.meta = '../UVP Data/All Metadata files/'\n",
    "\n",
    "raw.files = list.files(input.dir)\n",
    "meta.files = list.files(input.dir.meta)\n",
    "\n",
    "## Reading in only first metadata file.\n",
    "meta = as.data.frame(fread(paste0(input.dir.meta, meta.files[1])))\n",
    "\n",
    "## Combining with the rest.\n",
    "for (i in 2:length(meta.files)) {\n",
    "  meta = rbind(meta, as.data.frame(fread(paste0(input.dir.meta, meta.files[i]))))\n",
    "}"
   ]
  },
  {
   "cell_type": "markdown",
   "metadata": {},
   "source": [
    "_Optional:_ Here we load up the CTD and Sed Trap datasets and save them as rdata files for easy loading later."
   ]
  },
  {
   "cell_type": "code",
   "execution_count": null,
   "metadata": {},
   "outputs": [],
   "source": [
    "#### CTD and Sed Trap File section\n",
    "#ctd.file = '../Other Data/CTD Downcast Data.xlsx'\n",
    "#ctd = read.xlsx(ctd.file)\n",
    "#ctd$Time = as.POSIXct(ctd$Datetime.GMT, tz = 'UTC') ## Get timestamps\n",
    "#save(ctd, file = '../Other Data/CTD.rdata')\n",
    "\n",
    "#sedtrap = read.xlsx('../Other Data/Sediment Trap.xlsx')\n",
    "#sedtrap$Deployment.Time = as.POSIXct(sedtrap$Deployment.Time)\n",
    "#sedtrap$Recovery.Datetime = as.POSIXct(sedtrap$Recovery.Datetime)\n",
    "#save(sedtrap, file = '../Other Data/SedTrap.rdata')"
   ]
  },
  {
   "cell_type": "code",
   "execution_count": null,
   "metadata": {},
   "outputs": [],
   "source": [
    "## Load saved datasets\n",
    "load('../Other Data/CTD.rdata')\n",
    "load('../Other Data/SedTrap.rdata')"
   ]
  },
  {
   "cell_type": "markdown",
   "metadata": {},
   "source": [
    "### Build a UVP data object\n",
    "First we build one to make sure the system is working, and then we'll loop it for all the uvp cast files."
   ]
  },
  {
   "cell_type": "code",
   "execution_count": null,
   "metadata": {},
   "outputs": [],
   "source": [
    "##Initialize empty data structure, set Files\n",
    "MasterList = init.raw(Dir = input.dir, File = raw.files[269]) # Picked a random file.\n",
    "MasterList$params$dz = 5\n",
    "MasterList$params$A = 13.7\n",
    "MasterList$params$b = 1.55"
   ]
  },
  {
   "cell_type": "code",
   "execution_count": null,
   "metadata": {},
   "outputs": [],
   "source": [
    "## Load our data: set data.raw, fill in meta\n",
    "MasterList = load.raw(MasterList, meta, TRUE)\n",
    "MasterList = filter.by.size(MasterList, d.min = 0.102, d.max = 1.5) # Filtering to 2nd smallest size bin"
   ]
  },
  {
   "cell_type": "markdown",
   "metadata": {},
   "source": [
    "Setup bins based on a logrithmic scale."
   ]
  },
  {
   "cell_type": "code",
   "execution_count": null,
   "metadata": {},
   "outputs": [],
   "source": [
    "k = 3 ## Our current bins (increase for higher resolution, Guidi = 3)\n",
    "bins = c(2^(c((5*k):(11*k))/k))\n",
    "\n",
    "bins = floor(bins)\n",
    "delta.bins = diff(bins)\n",
    "\n",
    "## Save bin values\n",
    "MasterList$params$bins = bins\n",
    "MasterList$params$delta.bins = delta.bins\n",
    "MasterList$params$n = length(bins)"
   ]
  },
  {
   "cell_type": "code",
   "execution_count": null,
   "metadata": {},
   "outputs": [],
   "source": [
    "## Make the bins\n",
    "MasterList = make.bins(MasterList)\n",
    "\n",
    "## Calculate the flux (5m bins)\n",
    "MasterList = calc.flux(MasterList)\n",
    "\n",
    "## Add export values (sed trap data)\n",
    "MasterList = add.export(MasterList, thorium = thorium, sedtrap = sedtrap)\n",
    "\n",
    "##Add ctd metadata\n",
    "MasterList = add.ctd(MasterList, ctd, verbose = TRUE)"
   ]
  },
  {
   "cell_type": "markdown",
   "metadata": {},
   "source": [
    "### Done with test\n",
    "\n",
    "---\n",
    "\n",
    "### Full scale\n",
    "If that all works, then we can make a function to loop over all the files and make a list of each uvp cast object:"
   ]
  },
  {
   "cell_type": "code",
   "execution_count": null,
   "metadata": {},
   "outputs": [],
   "source": [
    "## See source.uvp.r for code on run.all.data(). This will need to be edited and provided as a template only.\n",
    "cruises = run.all.data(raw.files, A = 13.45, b = 1.35, dz = 5, ctd = ctd, verbose = FALSE, k = 3)"
   ]
  },
  {
   "cell_type": "markdown",
   "metadata": {},
   "source": [
    "### Save result"
   ]
  },
  {
   "cell_type": "code",
   "execution_count": null,
   "metadata": {},
   "outputs": [],
   "source": [
    "save(cruises, file = '../rstates/cruises.rdata')"
   ]
  }
 ],
 "metadata": {
  "kernelspec": {
   "display_name": "R",
   "language": "R",
   "name": "ir"
  },
  "language_info": {
   "codemirror_mode": "r",
   "file_extension": ".r",
   "mimetype": "text/x-r-source",
   "name": "R",
   "pygments_lexer": "r",
   "version": "3.4.3"
  }
 },
 "nbformat": 4,
 "nbformat_minor": 2
}
